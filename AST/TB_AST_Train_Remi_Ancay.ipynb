{
 "cells": [
  {
   "cell_type": "markdown",
   "id": "e9e330ab",
   "metadata": {},
   "source": [
    "## Train AST - Rémi Ançay - 2025\n",
    "\n",
    "This notebook allows to train an AST (Audio Spectrogram Transformer) model on a dataset of audio files.\n",
    "\n",
    "Configure your dataset path, your parameters, and the model path below, then run the cells to train the model.\n",
    "You can also modify the \"Set up train\" part with the parameters you want to use for training."
   ]
  },
  {
   "cell_type": "code",
   "execution_count": 1,
   "id": "be16b242",
   "metadata": {},
   "outputs": [
    {
     "name": "stderr",
     "output_type": "stream",
     "text": [
      "c:\\Users\\remia\\anaconda3\\envs\\tbLoup\\Lib\\site-packages\\tqdm\\auto.py:21: TqdmWarning: IProgress not found. Please update jupyter and ipywidgets. See https://ipywidgets.readthedocs.io/en/stable/user_install.html\n",
      "  from .autonotebook import tqdm as notebook_tqdm\n"
     ]
    },
    {
     "name": "stdout",
     "output_type": "stream",
     "text": [
      "WARNING:tensorflow:From c:\\Users\\remia\\anaconda3\\envs\\tbLoup\\Lib\\site-packages\\keras\\src\\losses.py:2976: The name tf.losses.sparse_softmax_cross_entropy is deprecated. Please use tf.compat.v1.losses.sparse_softmax_cross_entropy instead.\n",
      "\n"
     ]
    }
   ],
   "source": [
    "# Imports\n",
    "from datasets import Dataset, DatasetDict, Audio\n",
    "from transformers import ASTFeatureExtractor, ASTForAudioClassification, TrainingArguments, Trainer, ASTConfig\n",
    "from sklearn.model_selection import train_test_split\n",
    "import os\n",
    "import numpy as np\n",
    "import torch\n",
    "import matplotlib.pyplot as plt\n",
    "import pandas as pd\n",
    "import numpy as np"
   ]
  },
  {
   "cell_type": "code",
   "execution_count": 2,
   "id": "25f38bb3",
   "metadata": {},
   "outputs": [],
   "source": [
    "# Configuration\n",
    "TRAIN_FROM_SCRATCH = False  # Set to True if you want to train from scratch\n",
    "\n",
    "output_dir = \"./OutputClassifier/ASTBarkopediaIndividual\"\n",
    "logs_dir = \"./LogsClassifier/ASTBarkopediaIndividual\"\n",
    "\n",
    "path_to_dataset = \"Datasets/BarkopediaIndividualDataset/\""
   ]
  },
  {
   "cell_type": "code",
   "execution_count": null,
   "id": "7c947cff",
   "metadata": {},
   "outputs": [],
   "source": [
    "# Load the audio dataset in a correct format\n",
    "def load_audio_dataset(root_dir):\n",
    "    data = {\"file\": [], \"label\": []}\n",
    "    split_dir = os.path.join(root_dir, \"train\")\n",
    "    for label_name in os.listdir(split_dir):\n",
    "        label_dir = os.path.join(split_dir, label_name)\n",
    "        if not os.path.isdir(label_dir):\n",
    "            continue\n",
    "        for filename in os.listdir(label_dir):\n",
    "            if filename.endswith(\".wav\"):\n",
    "                data[\"file\"].append(os.path.join(label_dir, filename))\n",
    "                data[\"label\"].append(label_name)\n",
    "\n",
    "    raw_dataset = Dataset.from_dict(data)\n",
    "\n",
    "    raw_dataset = raw_dataset.cast_column(\"file\", Audio(sampling_rate=16000))\n",
    "    raw_dataset = raw_dataset.class_encode_column(\"label\")\n",
    "\n",
    "    return DatasetDict({\n",
    "        \"train\": raw_dataset\n",
    "    })"
   ]
  },
  {
   "cell_type": "code",
   "execution_count": 4,
   "id": "b7b5f469",
   "metadata": {},
   "outputs": [
    {
     "name": "stderr",
     "output_type": "stream",
     "text": [
      "Casting to class labels: 100%|██████████| 441/441 [00:00<00:00, 27614.29 examples/s]\n"
     ]
    }
   ],
   "source": [
    "dataset = load_audio_dataset(path_to_dataset)"
   ]
  },
  {
   "cell_type": "code",
   "execution_count": 5,
   "id": "3ac04fe4",
   "metadata": {},
   "outputs": [
    {
     "data": {
      "text/plain": [
       "{'file': {'path': 'Datasets/BarkopediaIndividualDataset/train\\\\dog_1\\\\combined_1.wav',\n",
       "  'array': array([ 3.05175781e-05,  0.00000000e+00,  0.00000000e+00, ...,\n",
       "         -2.44140625e-04,  6.40869141e-04,  1.52587891e-04]),\n",
       "  'sampling_rate': 16000},\n",
       " 'label': 0}"
      ]
     },
     "execution_count": 5,
     "metadata": {},
     "output_type": "execute_result"
    }
   ],
   "source": [
    "dataset[\"train\"][0]  # Check the first example"
   ]
  },
  {
   "cell_type": "code",
   "execution_count": 6,
   "id": "e44681c2",
   "metadata": {},
   "outputs": [],
   "source": [
    "# Split the dataset into training and validation sets\n",
    "train_test = dataset[\"train\"]\n",
    "train_indices, val_indices = train_test_split(list(range(len(train_test))), test_size=0.2, stratify=train_test[\"label\"], random_state=42)\n",
    "dataset[\"train\"] = train_test.select(train_indices)\n",
    "dataset[\"validation\"] = train_test.select(val_indices)"
   ]
  },
  {
   "cell_type": "code",
   "execution_count": 7,
   "id": "2a81fb71",
   "metadata": {},
   "outputs": [
    {
     "name": "stdout",
     "output_type": "stream",
     "text": [
      "Training samples: 352, Validation samples: 89\n"
     ]
    }
   ],
   "source": [
    "print(f\"Training samples: {len(dataset['train'])}, Validation samples: {len(dataset['validation'])}\")"
   ]
  },
  {
   "cell_type": "code",
   "execution_count": null,
   "id": "b6183178",
   "metadata": {},
   "outputs": [
    {
     "name": "stderr",
     "output_type": "stream",
     "text": [
      "Map: 100%|██████████| 352/352 [00:03<00:00, 107.39 examples/s]\n",
      "Map: 100%|██████████| 89/89 [00:00<00:00, 117.93 examples/s]\n"
     ]
    }
   ],
   "source": [
    "# Feature extraction\n",
    "feature_extractor = ASTFeatureExtractor.from_pretrained(\"MIT/ast-finetuned-audioset-10-10-0.4593\")\n",
    "\n",
    "def preprocess(example):\n",
    "    audio_data = example[\"file\"][\"array\"]\n",
    "    sampling_rate = example[\"file\"][\"sampling_rate\"]\n",
    "\n",
    "    extracted_features = feature_extractor(\n",
    "        audio_data,\n",
    "        sampling_rate=sampling_rate,\n",
    "        return_tensors=\"pt\"\n",
    "    )\n",
    "\n",
    "    input_values = extracted_features[\"input_values\"].squeeze(0)\n",
    "\n",
    "    return {\n",
    "        \"input_values\": input_values,\n",
    "        \"labels\": int(example[\"label\"])\n",
    "\n",
    "    }\n",
    "\n",
    "dataset = dataset.map(preprocess, remove_columns=[\"file\"])"
   ]
  },
  {
   "cell_type": "code",
   "execution_count": 9,
   "id": "aebed4fb",
   "metadata": {},
   "outputs": [
    {
     "name": "stderr",
     "output_type": "stream",
     "text": [
      "Some weights of ASTForAudioClassification were not initialized from the model checkpoint at MIT/ast-finetuned-audioset-10-10-0.4593 and are newly initialized because the shapes did not match:\n",
      "- classifier.dense.bias: found shape torch.Size([527]) in the checkpoint and torch.Size([10]) in the model instantiated\n",
      "- classifier.dense.weight: found shape torch.Size([527, 768]) in the checkpoint and torch.Size([10, 768]) in the model instantiated\n",
      "You should probably TRAIN this model on a down-stream task to be able to use it for predictions and inference.\n"
     ]
    }
   ],
   "source": [
    "# Load the pre-trained model or initialize a new one\n",
    "id2label = {i: label for i, label in enumerate(dataset[\"train\"].features[\"label\"].names)}\n",
    "label2id = {v: k for k, v in id2label.items()}\n",
    "\n",
    "\n",
    "if TRAIN_FROM_SCRATCH:\n",
    "    config = ASTConfig(\n",
    "        num_labels=len(id2label),\n",
    "        id2label=id2label,\n",
    "        label2id=label2id,\n",
    "    )\n",
    "    model = ASTForAudioClassification(config)\n",
    "else :\n",
    "    model = ASTForAudioClassification.from_pretrained(\n",
    "        \"MIT/ast-finetuned-audioset-10-10-0.4593\",\n",
    "        num_labels=len(id2label),\n",
    "        id2label=id2label,\n",
    "        label2id=label2id,\n",
    "        ignore_mismatched_sizes=True\n",
    "    )"
   ]
  },
  {
   "cell_type": "code",
   "execution_count": null,
   "id": "7d48ce2b",
   "metadata": {},
   "outputs": [
    {
     "name": "stderr",
     "output_type": "stream",
     "text": [
      "C:\\Users\\remia\\AppData\\Local\\Temp\\ipykernel_15060\\4013307857.py:31: FutureWarning: `tokenizer` is deprecated and will be removed in version 5.0.0 for `Trainer.__init__`. Use `processing_class` instead.\n",
      "  trainer = Trainer(\n"
     ]
    }
   ],
   "source": [
    "# Set up train\n",
    "args = TrainingArguments(\n",
    "    output_dir=output_dir,\n",
    "    eval_strategy=\"epoch\",\n",
    "    save_strategy=\"epoch\",\n",
    "    per_device_train_batch_size=8,\n",
    "    per_device_eval_batch_size=8,\n",
    "    num_train_epochs=11,\n",
    "    logging_dir=logs_dir,\n",
    "    load_best_model_at_end=True,\n",
    "    metric_for_best_model=\"accuracy\",\n",
    "    fp16=True,\n",
    ")\n",
    "\n",
    "def compute_metrics(eval_pred):\n",
    "    pred_logits, labels = eval_pred\n",
    "    predictions = np.argmax(pred_logits, axis=-1)\n",
    "    acc = (predictions == labels).mean()\n",
    "    return {\"accuracy\": acc}\n",
    "\n",
    "def custom_collate_fn(batch):\n",
    "    input_values = [torch.tensor(item[\"input_values\"]) for item in batch]\n",
    "    labels = [item[\"labels\"] for item in batch]\n",
    "\n",
    "    return {\n",
    "        \"input_values\": torch.stack(input_values),\n",
    "        \"labels\": torch.tensor(labels, dtype=torch.long)\n",
    "    }\n",
    "\n",
    "trainer = Trainer(\n",
    "    model=model,\n",
    "    args=args,\n",
    "    train_dataset=dataset[\"train\"],\n",
    "    eval_dataset=dataset[\"validation\"],\n",
    "    tokenizer=feature_extractor,\n",
    "    compute_metrics=compute_metrics,\n",
    "    data_collator=custom_collate_fn\n",
    ")"
   ]
  },
  {
   "cell_type": "code",
   "execution_count": null,
   "id": "c5a1d30a",
   "metadata": {},
   "outputs": [
    {
     "name": "stderr",
     "output_type": "stream",
     "text": [
      "c:\\Users\\remia\\anaconda3\\envs\\tbLoup\\Lib\\site-packages\\torch\\utils\\data\\dataloader.py:665: UserWarning: 'pin_memory' argument is set as true but no accelerator is found, then device pinned memory won't be used.\n",
      "  warnings.warn(warn_msg)\n"
     ]
    },
    {
     "data": {
      "text/html": [
       "\n",
       "    <div>\n",
       "      \n",
       "      <progress value='484' max='484' style='width:300px; height:20px; vertical-align: middle;'></progress>\n",
       "      [484/484 2:25:17, Epoch 11/11]\n",
       "    </div>\n",
       "    <table border=\"1\" class=\"dataframe\">\n",
       "  <thead>\n",
       " <tr style=\"text-align: left;\">\n",
       "      <th>Epoch</th>\n",
       "      <th>Training Loss</th>\n",
       "      <th>Validation Loss</th>\n",
       "      <th>Accuracy</th>\n",
       "    </tr>\n",
       "  </thead>\n",
       "  <tbody>\n",
       "    <tr>\n",
       "      <td>1</td>\n",
       "      <td>No log</td>\n",
       "      <td>0.700023</td>\n",
       "      <td>0.808989</td>\n",
       "    </tr>\n",
       "    <tr>\n",
       "      <td>2</td>\n",
       "      <td>No log</td>\n",
       "      <td>0.403493</td>\n",
       "      <td>0.887640</td>\n",
       "    </tr>\n",
       "    <tr>\n",
       "      <td>3</td>\n",
       "      <td>No log</td>\n",
       "      <td>0.262367</td>\n",
       "      <td>0.921348</td>\n",
       "    </tr>\n",
       "    <tr>\n",
       "      <td>4</td>\n",
       "      <td>No log</td>\n",
       "      <td>0.301810</td>\n",
       "      <td>0.898876</td>\n",
       "    </tr>\n",
       "    <tr>\n",
       "      <td>5</td>\n",
       "      <td>No log</td>\n",
       "      <td>0.293644</td>\n",
       "      <td>0.898876</td>\n",
       "    </tr>\n",
       "    <tr>\n",
       "      <td>6</td>\n",
       "      <td>No log</td>\n",
       "      <td>0.290775</td>\n",
       "      <td>0.898876</td>\n",
       "    </tr>\n",
       "    <tr>\n",
       "      <td>7</td>\n",
       "      <td>No log</td>\n",
       "      <td>0.289680</td>\n",
       "      <td>0.910112</td>\n",
       "    </tr>\n",
       "    <tr>\n",
       "      <td>8</td>\n",
       "      <td>No log</td>\n",
       "      <td>0.290631</td>\n",
       "      <td>0.910112</td>\n",
       "    </tr>\n",
       "    <tr>\n",
       "      <td>9</td>\n",
       "      <td>No log</td>\n",
       "      <td>0.291165</td>\n",
       "      <td>0.910112</td>\n",
       "    </tr>\n",
       "    <tr>\n",
       "      <td>10</td>\n",
       "      <td>No log</td>\n",
       "      <td>0.291728</td>\n",
       "      <td>0.910112</td>\n",
       "    </tr>\n",
       "    <tr>\n",
       "      <td>11</td>\n",
       "      <td>No log</td>\n",
       "      <td>0.291803</td>\n",
       "      <td>0.910112</td>\n",
       "    </tr>\n",
       "  </tbody>\n",
       "</table><p>"
      ],
      "text/plain": [
       "<IPython.core.display.HTML object>"
      ]
     },
     "metadata": {},
     "output_type": "display_data"
    },
    {
     "name": "stderr",
     "output_type": "stream",
     "text": [
      "c:\\Users\\remia\\anaconda3\\envs\\tbLoup\\Lib\\site-packages\\torch\\utils\\data\\dataloader.py:665: UserWarning: 'pin_memory' argument is set as true but no accelerator is found, then device pinned memory won't be used.\n",
      "  warnings.warn(warn_msg)\n",
      "c:\\Users\\remia\\anaconda3\\envs\\tbLoup\\Lib\\site-packages\\torch\\utils\\data\\dataloader.py:665: UserWarning: 'pin_memory' argument is set as true but no accelerator is found, then device pinned memory won't be used.\n",
      "  warnings.warn(warn_msg)\n",
      "c:\\Users\\remia\\anaconda3\\envs\\tbLoup\\Lib\\site-packages\\torch\\utils\\data\\dataloader.py:665: UserWarning: 'pin_memory' argument is set as true but no accelerator is found, then device pinned memory won't be used.\n",
      "  warnings.warn(warn_msg)\n",
      "c:\\Users\\remia\\anaconda3\\envs\\tbLoup\\Lib\\site-packages\\torch\\utils\\data\\dataloader.py:665: UserWarning: 'pin_memory' argument is set as true but no accelerator is found, then device pinned memory won't be used.\n",
      "  warnings.warn(warn_msg)\n",
      "c:\\Users\\remia\\anaconda3\\envs\\tbLoup\\Lib\\site-packages\\torch\\utils\\data\\dataloader.py:665: UserWarning: 'pin_memory' argument is set as true but no accelerator is found, then device pinned memory won't be used.\n",
      "  warnings.warn(warn_msg)\n",
      "c:\\Users\\remia\\anaconda3\\envs\\tbLoup\\Lib\\site-packages\\torch\\utils\\data\\dataloader.py:665: UserWarning: 'pin_memory' argument is set as true but no accelerator is found, then device pinned memory won't be used.\n",
      "  warnings.warn(warn_msg)\n",
      "c:\\Users\\remia\\anaconda3\\envs\\tbLoup\\Lib\\site-packages\\torch\\utils\\data\\dataloader.py:665: UserWarning: 'pin_memory' argument is set as true but no accelerator is found, then device pinned memory won't be used.\n",
      "  warnings.warn(warn_msg)\n",
      "c:\\Users\\remia\\anaconda3\\envs\\tbLoup\\Lib\\site-packages\\torch\\utils\\data\\dataloader.py:665: UserWarning: 'pin_memory' argument is set as true but no accelerator is found, then device pinned memory won't be used.\n",
      "  warnings.warn(warn_msg)\n",
      "c:\\Users\\remia\\anaconda3\\envs\\tbLoup\\Lib\\site-packages\\torch\\utils\\data\\dataloader.py:665: UserWarning: 'pin_memory' argument is set as true but no accelerator is found, then device pinned memory won't be used.\n",
      "  warnings.warn(warn_msg)\n",
      "c:\\Users\\remia\\anaconda3\\envs\\tbLoup\\Lib\\site-packages\\torch\\utils\\data\\dataloader.py:665: UserWarning: 'pin_memory' argument is set as true but no accelerator is found, then device pinned memory won't be used.\n",
      "  warnings.warn(warn_msg)\n"
     ]
    },
    {
     "data": {
      "text/plain": [
       "TrainOutput(global_step=484, training_loss=0.08360768152662545, metrics={'train_runtime': 8740.932, 'train_samples_per_second': 0.443, 'train_steps_per_second': 0.055, 'total_flos': 2.6247388930768896e+17, 'train_loss': 0.08360768152662545, 'epoch': 11.0})"
      ]
     },
     "execution_count": 11,
     "metadata": {},
     "output_type": "execute_result"
    }
   ],
   "source": [
    "# Train\n",
    "trainer.train()\n",
    "\n",
    "# If the model was already trained and you want to continue training\n",
    "#trainer.args.num_train_epochs = 15 # Number of epochs to reach\n",
    "#trainer.train(resume_from_checkpoint=True)"
   ]
  },
  {
   "cell_type": "code",
   "execution_count": null,
   "id": "987d12a3",
   "metadata": {},
   "outputs": [
    {
     "data": {
      "image/png": "[encoded data removed]",
      "text/plain": [
       "<Figure size 1000x400 with 1 Axes>"
      ]
     },
     "metadata": {},
     "output_type": "display_data"
    },
    {
     "data": {
      "image/png": "[encoded data removed]",
      "text/plain": [
       "<Figure size 1000x400 with 1 Axes>"
      ]
     },
     "metadata": {},
     "output_type": "display_data"
    }
   ],
   "source": [
    "# Plot results\n",
    "log_history = trainer.state.log_history\n",
    "df = pd.DataFrame(log_history)\n",
    "\n",
    "df_train = df[df[\"train_loss\"].notna()]\n",
    "df_eval = df[df[\"eval_loss\"].notna()]\n",
    "\n",
    "epochs = sorted(set(int(e) for e in df[\"epoch\"].dropna().unique()))\n",
    "\n",
    "# Loss plot\n",
    "plt.figure(figsize=(10, 4))\n",
    "plt.plot(df_train[\"epoch\"], df_train[\"train_loss\"], label=\"Train Loss\", marker=\"o\")\n",
    "plt.plot(df_eval[\"epoch\"], df_eval[\"eval_loss\"], label=\"Eval Loss\", marker=\"o\")\n",
    "plt.xticks(epochs) \n",
    "plt.title(\"Loss par époque\")\n",
    "plt.xlabel(\"Époque\")\n",
    "plt.ylabel(\"Loss\")\n",
    "plt.legend()\n",
    "plt.grid(True)\n",
    "plt.show()\n",
    "\n",
    "# Accuracy plot\n",
    "plt.figure(figsize=(10, 4))\n",
    "plt.plot(df_eval[\"epoch\"], df_eval[\"eval_accuracy\"], label=\"Eval Accuracy\", color=\"green\", marker=\"o\")\n",
    "plt.xticks(epochs)\n",
    "plt.title(\"Accuracy par époque\")\n",
    "plt.xlabel(\"Époque\")\n",
    "plt.ylabel(\"Accuracy\")\n",
    "plt.legend()\n",
    "plt.grid(True)\n",
    "plt.show()\n"
   ]
  },
  {
   "cell_type": "code",
   "execution_count": 13,
   "id": "b725d8b0",
   "metadata": {},
   "outputs": [
    {
     "data": {
      "text/plain": [
       "['./OutputClassifier/ASTBarkopediaIndividual\\\\preprocessor_config.json']"
      ]
     },
     "execution_count": 13,
     "metadata": {},
     "output_type": "execute_result"
    }
   ],
   "source": [
    "#save the model\n",
    "model.save_pretrained(output_dir)\n",
    "feature_extractor.save_pretrained(output_dir)"
   ]
  }
 ],
 "metadata": {
  "kernelspec": {
   "display_name": "tbLoup",
   "language": "python",
   "name": "python3"
  },
  "language_info": {
   "codemirror_mode": {
    "name": "ipython",
    "version": 3
   },
   "file_extension": ".py",
   "mimetype": "text/x-python",
   "name": "python",
   "nbconvert_exporter": "python",
   "pygments_lexer": "ipython3",
   "version": "3.11.11"
  }
 },
 "nbformat": 4,
 "nbformat_minor": 5
}
