{
 "cells": [
  {
   "cell_type": "markdown",
   "id": "b7668b2c",
   "metadata": {},
   "source": [
    "## Download a dataset from Hugging Face - Rémi Ançay - 2025\n",
    "\n",
    "This notebook allows you to download and save an audio dataset from Hugging Face. It uses the `datasets` library to load the dataset and save it in a specified folder.\n",
    "\n",
    "Configure the dataset name and the save folder path below, then run the cells to download and save the dataset."
   ]
  },
  {
   "cell_type": "code",
   "execution_count": 1,
   "id": "f6138e6d",
   "metadata": {},
   "outputs": [
    {
     "name": "stderr",
     "output_type": "stream",
     "text": [
      "c:\\Users\\remia\\anaconda3\\envs\\tbLoup\\Lib\\site-packages\\tqdm\\auto.py:21: TqdmWarning: IProgress not found. Please update jupyter and ipywidgets. See https://ipywidgets.readthedocs.io/en/stable/user_install.html\n",
      "  from .autonotebook import tqdm as notebook_tqdm\n"
     ]
    }
   ],
   "source": [
    "import os\n",
    "import shutil\n",
    "from datasets import load_dataset\n",
    "from tqdm import tqdm"
   ]
  },
  {
   "cell_type": "code",
   "execution_count": null,
   "id": "2ad6830c",
   "metadata": {},
   "outputs": [],
   "source": [
    "# Choose the output directory\n",
    "OUT_DIR = \"./Datasets/RawDownload/barkopedia_individual_datasets\"\n",
    "os.makedirs(OUT_DIR, exist_ok=True)"
   ]
  },
  {
   "cell_type": "code",
   "execution_count": null,
   "id": "6a414f85",
   "metadata": {},
   "outputs": [],
   "source": [
    "# Load the dataset from Hugging Face.\n",
    "ds = load_dataset(\n",
    "    \"ArlingtonCL2/Barkopedia_Individual_Dog_Recognition_Dataset\"\n",
    ")\n",
    "\n",
    "# Could HTTP error 429. Just retry fiew times."
   ]
  },
  {
   "cell_type": "code",
   "execution_count": 16,
   "id": "5402a123",
   "metadata": {},
   "outputs": [
    {
     "data": {
      "text/plain": [
       "DatasetDict({\n",
       "    train: Dataset({\n",
       "        features: ['audio', 'label'],\n",
       "        num_rows: 7137\n",
       "    })\n",
       "    validation: Dataset({\n",
       "        features: ['audio', 'label'],\n",
       "        num_rows: 709\n",
       "    })\n",
       "})"
      ]
     },
     "execution_count": 16,
     "metadata": {},
     "output_type": "execute_result"
    }
   ],
   "source": [
    "ds"
   ]
  },
  {
   "cell_type": "code",
   "execution_count": 19,
   "id": "82ff6b52",
   "metadata": {},
   "outputs": [
    {
     "name": "stdout",
     "output_type": "stream",
     "text": [
      "Labels: ['1', '10', '11', '12', '13', '14', '15', '16', '17', '18', '19', '2', '20', '21', '22', '23', '24', '25', '26', '27', '28', '29', '3', '30', '31', '32', '33', '34', '35', '36', '37', '38', '39', '4', '40', '41', '42', '43', '44', '45', '46', '47', '48', '49', '5', '50', '51', '52', '53', '54', '55', '56', '57', '58', '59', '6', '60', '7', '8', '9']\n"
     ]
    }
   ],
   "source": [
    "label_names = ds[\"train\"].features[\"label\"].names # liste des labels\n",
    "print(f\"Labels: {label_names}\")"
   ]
  },
  {
   "cell_type": "code",
   "execution_count": 21,
   "id": "5ca00a55",
   "metadata": {},
   "outputs": [
    {
     "name": "stdout",
     "output_type": "stream",
     "text": [
      "Traitement du split 'train' avec 7137 exemples.\n"
     ]
    },
    {
     "name": "stderr",
     "output_type": "stream",
     "text": [
      "Downloading: 100%|██████████| 7137/7137 [00:20<00:00, 347.13it/s]\n"
     ]
    },
    {
     "name": "stdout",
     "output_type": "stream",
     "text": [
      "Traitement du split 'validation' avec 709 exemples.\n"
     ]
    },
    {
     "name": "stderr",
     "output_type": "stream",
     "text": [
      "Downloading: 100%|██████████| 709/709 [00:01<00:00, 561.35it/s]"
     ]
    },
    {
     "name": "stdout",
     "output_type": "stream",
     "text": [
      "Tous les fichiers sont copiés dans : ./Datasets/RawDownload/barkopedia_individual_datasets\n"
     ]
    },
    {
     "name": "stderr",
     "output_type": "stream",
     "text": [
      "\n"
     ]
    }
   ],
   "source": [
    "for split in ds.keys():\n",
    "    split_ds = ds[split]\n",
    "    print(f\"Traitement du split '{split}' avec {len(split_ds)} exemples.\")\n",
    "\n",
    "    directory = os.path.join(OUT_DIR, split)\n",
    "    os.makedirs(directory, exist_ok=True)\n",
    "\n",
    "    for idx, example in tqdm(enumerate(split_ds), total=len(split_ds), desc=\"Downloading\"):\n",
    "        # Déclenche le download dans le cache\n",
    "        audio_info = example[\"audio\"]          \n",
    "        src_path   = audio_info[\"path\"]\n",
    "        \n",
    "        label_id   = example[\"label\"]\n",
    "        label_name = label_names[label_id]\n",
    "        \n",
    "        # Créer un sous-dossier par label\n",
    "        label_dir = os.path.join(directory, label_name)\n",
    "        os.makedirs(label_dir, exist_ok=True)\n",
    "        \n",
    "        # Génere un nom de fichier unique : {label}_{idx:04d}.wav\n",
    "        dst_filename = f\"{label_name}_{idx:04d}.wav\"\n",
    "        dst_path     = os.path.join(label_dir, dst_filename)\n",
    "        \n",
    "        # Copier le fichier depuis le cache HF vers le dossier de sortie\n",
    "        shutil.copyfile(src_path, dst_path)\n",
    "\n",
    "print(f\"Tous les fichiers sont copiés dans : {OUT_DIR}\")"
   ]
  }
 ],
 "metadata": {
  "kernelspec": {
   "display_name": "tbLoup",
   "language": "python",
   "name": "python3"
  },
  "language_info": {
   "codemirror_mode": {
    "name": "ipython",
    "version": 3
   },
   "file_extension": ".py",
   "mimetype": "text/x-python",
   "name": "python",
   "nbconvert_exporter": "python",
   "pygments_lexer": "ipython3",
   "version": "3.11.11"
  }
 },
 "nbformat": 4,
 "nbformat_minor": 5
}
